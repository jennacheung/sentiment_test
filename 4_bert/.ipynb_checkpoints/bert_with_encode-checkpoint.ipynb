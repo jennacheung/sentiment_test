{
 "cells": [
  {
   "cell_type": "code",
   "execution_count": 1,
   "metadata": {
    "pycharm": {
     "name": "#%%\n"
    }
   },
   "outputs": [],
   "source": [
    "import nltk\n",
    "from nltk.corpus import stopwords\n",
    "from sklearn.metrics import accuracy_score\n",
    "import pandas as pd\n",
    "from sklearn.neighbors import KNeighborsClassifier\n",
    "from tqdm import tqdm\n",
    "from sklearn.model_selection import train_test_split\n",
    "from sklearn.svm import LinearSVC\n",
    "import numpy as np\n",
    "from sklearn.naive_bayes import GaussianNB\n",
    "from sklearn.linear_model import LogisticRegression\n",
    "from sklearn.ensemble import RandomForestClassifier\n",
    "from sklearn.naive_bayes import MultinomialNB\n",
    "\n"
   ]
  },
  {
   "cell_type": "code",
   "execution_count": 2,
   "metadata": {},
   "outputs": [],
   "source": [
    "\n",
    "model_path = '/Users/yuchk/PycharmProjects/IMDB/0_dataset/bert_model'\n",
    "res_file_path = '/Users/yuchk/PycharmProjects/IMDB/0_dataset/orign/encode_train_imdb.tsv'\n",
    "\n",
    "df = pd.read_csv(res_file_path, usecols=['tag', \"encode\"], sep='\\t')"
   ]
  },
  {
   "cell_type": "code",
   "execution_count": 3,
   "metadata": {},
   "outputs": [],
   "source": [
    "\n",
    "# df['cat_id'] = df['product_type'].factorize()[0]\n",
    "# cat_id_df = df[['product_type', 'cat_id']].drop_duplicates().sort_values('cat_id').reset_index(drop=True)\n",
    "# cat_to_id = dict(cat_id_df.values)\n",
    "# id_to_cat = dict(cat_id_df[['cat_id', 'product_type']].values)\n",
    "# d = {'cat': df['product_type'].value_counts().index, 'count': df['product_type'].value_counts()}\n",
    "# df_cat = pd.DataFrame(data=d)\n",
    "# my_min_df = df_cat[df_cat['count'] > 2000]['cat']\n",
    "# my_max_df = df_cat[df_cat['count'] < 100000000]['cat']\n",
    "# df = df[df['product_type'].isin(list(my_min_df))]\n",
    "# df = df[df['product_type'].isin(list(my_max_df))]"
   ]
  },
  {
   "cell_type": "code",
   "execution_count": 4,
   "metadata": {
    "pycharm": {
     "name": "#%%\n"
    }
   },
   "outputs": [],
   "source": [
    "def change(x):\n",
    "    n = len(x)\n",
    "    x = x[1:n - 1]\n",
    "    res = [np.float32(i) for i in x.split()]\n",
    "    return res\n",
    "\n",
    "\n",
    "df['encode'] = df['encode'].apply(change)\n",
    "X_train, X_test, y_train, y_test = train_test_split(df['encode'], df['tag'], random_state=6, stratify=df[\n",
    "    'tag'])\n",
    "\n",
    "x_trains = [j for j in X_train]\n",
    "y_trains = np.array([j for j in y_train])\n",
    "x_tests = [j for j in X_test]\n",
    "y_tests = np.array([j for j in y_test])\n"
   ]
  },
  {
   "cell_type": "code",
   "execution_count": 5,
   "metadata": {
    "pycharm": {
     "is_executing": false
    }
   },
   "outputs": [],
   "source": [
    "from sklearn.neighbors import KNeighborsClassifier\n",
    "knn = KNeighborsClassifier(n_jobs=2).fit(x_trains, y_trains)\n",
    "y_pre_knn = knn.predict(x_tests)\n",
    "r3 = accuracy_score(y_tests, y_pre_knn)"
   ]
  },
  {
   "cell_type": "code",
   "execution_count": 13,
   "metadata": {},
   "outputs": [
    {
     "name": "stdout",
     "output_type": "stream",
     "text": [
      "0.7390298251628385\n",
      "                                  precision    recall  f1-score   support\n",
      "\n",
      "                   ADULT_COSTUME       0.61      0.77      0.68       359\n",
      "            ART_AND_CRAFT_SUPPLY       0.52      0.54      0.53       469\n",
      "                             BRA       0.80      0.94      0.87       284\n",
      "                CABLE_OR_ADAPTER       0.58      0.68      0.63       298\n",
      "        CAMERA_OTHER_ACCESSORIES       0.68      0.71      0.70       287\n",
      "            CARRYING_CASE_OR_BAG       0.57      0.73      0.64       279\n",
      "                CHARGING_ADAPTER       0.70      0.84      0.76       325\n",
      "                          COFFEE       0.82      0.94      0.88       290\n",
      "                 COMPUTER_ADD_ON       0.55      0.58      0.56       445\n",
      "              COMPUTER_COMPONENT       0.45      0.35      0.39       444\n",
      "           COMPUTER_INPUT_DEVICE       0.72      0.72      0.72       361\n",
      "                         EYEWEAR       0.82      0.88      0.85       340\n",
      "                             HAT       0.79      0.79      0.79       391\n",
      "                    INK_OR_TONER       0.92      0.96      0.94       263\n",
      "INSTRUMENT_PARTS_AND_ACCESSORIES       0.79      0.57      0.66       308\n",
      "                   KITCHEN_TOOLS       0.86      0.79      0.82       440\n",
      "                      LAB_SUPPLY       0.66      0.48      0.56       298\n",
      "                    LIGHT_SOURCE       0.83      0.88      0.86       275\n",
      "           MAJOR_HOME_APPLIANCES       0.88      0.81      0.84       404\n",
      "                        NECKLACE       0.88      0.90      0.89       261\n",
      "                   PAPER_PRODUCT       0.71      0.68      0.69       290\n",
      "                  PARTY_SUPPLIES       0.88      0.79      0.83       457\n",
      "         PERSONAL_CARE_APPLIANCE       0.81      0.34      0.48       298\n",
      "                          SANDAL       0.84      0.93      0.88       360\n",
      "                SEEDS_AND_PLANTS       0.93      0.67      0.78       303\n",
      "                         SHAMPOO       0.90      0.90      0.90       253\n",
      "                          SHORTS       0.79      0.90      0.84       325\n",
      "                           SOCKS       0.53      0.57      0.54       368\n",
      "                    SOCKSHOSIERY       0.54      0.58      0.56       438\n",
      "                        SPEAKERS       0.78      0.81      0.79       303\n",
      "                         SWEATER       0.88      0.87      0.87       311\n",
      "                        SWIMWEAR       0.90      0.92      0.91       428\n",
      "            TECHNICAL_SPORT_SHOE       0.89      0.83      0.86       277\n",
      "                         VITAMIN       0.80      0.79      0.80       436\n",
      "\n",
      "                        accuracy                           0.74     11668\n",
      "                       macro avg       0.75      0.75      0.74     11668\n",
      "                    weighted avg       0.74      0.74      0.74     11668\n",
      "\n"
     ]
    }
   ],
   "source": [
    "print(r3)\n",
    "from sklearn.metrics import classification_report\n",
    "print(classification_report(y_tests, y_pre_knn))"
   ]
  },
  {
   "cell_type": "code",
   "execution_count": null,
   "metadata": {},
   "outputs": [],
   "source": []
  },
  {
   "cell_type": "code",
   "execution_count": null,
   "metadata": {},
   "outputs": [],
   "source": []
  },
  {
   "cell_type": "code",
   "execution_count": null,
   "metadata": {},
   "outputs": [],
   "source": []
  },
  {
   "cell_type": "code",
   "execution_count": null,
   "metadata": {
    "pycharm": {
     "name": "#%%\n"
    }
   },
   "outputs": [],
   "source": [
    "from  sklearn.neural_network import MLPClassifier\n",
    "mlp = MLPClassifier().fit(x_trains, y_trains)\n",
    "y_pre_mlp = mlp.predict(x_tests)\n",
    "print('Testing accuracy %s' % accuracy_score(y_tests, y_pre_mlp))"
   ]
  },
  {
   "cell_type": "code",
   "execution_count": null,
   "metadata": {
    "pycharm": {
     "name": "#%%\n"
    }
   },
   "outputs": [],
   "source": []
  },
  {
   "cell_type": "code",
   "execution_count": null,
   "metadata": {},
   "outputs": [],
   "source": [
    "f = open(\"res_KNN.txt\", \"w+\")\n",
    "from sklearn.externals import joblib\n",
    "for  i in range(1,50):\n",
    "    knn = KNeighborsClassifier(n_jobs=2,n_neighbors=i).fit(x_trains, y_trains)\n",
    "    y_pre_knn = knn.predict(x_tests)\n",
    "    r3 = accuracy_score(y_tests, y_pre_knn)\n",
    " \n",
    "    f.write(\"KNN\")\n",
    "    f.write(str(i))\n",
    "    f.write(str(r3))\n",
    "    print(r3)\n",
    "f.close()"
   ]
  },
  {
   "cell_type": "code",
   "execution_count": null,
   "metadata": {},
   "outputs": [],
   "source": [
    "clf = LinearSVC().fit(x_trains, y_trains)\n",
    "y_pre = clf.predict(x_tests)\n"
   ]
  },
  {
   "cell_type": "code",
   "execution_count": null,
   "metadata": {},
   "outputs": [],
   "source": [
    "print('LinearSVC Testing accuracy %s' % accuracy_score(y_tests, y_pre))"
   ]
  },
  {
   "cell_type": "code",
   "execution_count": null,
   "metadata": {},
   "outputs": [],
   "source": [
    "clf1 = MultinomialNB().fit(x_trains, y_trains)\n",
    "y_pre1 = clf1.predict(x_tests)\n",
    "print('GaussianNB Testing accuracy %s' % accuracy_score(y_test, y_pre1))"
   ]
  },
  {
   "cell_type": "code",
   "execution_count": null,
   "metadata": {
    "pycharm": {
     "name": "#%%\n"
    }
   },
   "outputs": [],
   "source": [
    "clf1 = GaussianNB().fit(x_trains, y_trains)\n",
    "y_pre1 = clf1.predict(x_tests)\n",
    "print('GaussianNB Testing accuracy %s' % accuracy_score(y_tests, y_pre1))"
   ]
  },
  {
   "cell_type": "code",
   "execution_count": null,
   "metadata": {
    "pycharm": {
     "name": "#%%\n"
    }
   },
   "outputs": [],
   "source": [
    "lr = LogisticRegression(random_state=0).fit(x_trains, y_trains)\n",
    "y_pre_lr = lr.predict(x_tests)\n",
    "\n",
    "print('Testing accuracy %s' % accuracy_score(y_tests, y_pre_lr))"
   ]
  },
  {
   "cell_type": "code",
   "execution_count": null,
   "metadata": {
    "pycharm": {
     "name": "#%%\n"
    }
   },
   "outputs": [],
   "source": [
    "rfc = RandomForestClassifier(n_estimators=200, max_depth=4, random_state=0,n_jobs=4).fit(x_trains, y_trains)\n",
    "y_pre_rfc = rfc.predict(x_tests)\n",
    "\n",
    "print('Testing accuracy %s' % accuracy_score(y_tests, y_pre_rfc))\n"
   ]
  },
  {
   "cell_type": "code",
   "execution_count": null,
   "metadata": {
    "pycharm": {
     "name": "#%%\n"
    }
   },
   "outputs": [],
   "source": [
    "\n",
    "f = open(\"res.txt\", \"w\")\n",
    "f.write(\"mlp\")\n",
    "# f.write(str(r1))\n",
    "# f.write(\"LogisticRegression\")\n",
    "# f.write(str(r2))\n",
    "# f.write(\"GaussianNB\")\n",
    "f.write(str(r3))\n",
    "f.close()\n"
   ]
  },
  {
   "cell_type": "code",
   "execution_count": null,
   "metadata": {
    "pycharm": {
     "name": "#%%\n"
    }
   },
   "outputs": [],
   "source": [
    "clf1 = MultinomialNB().fit(x_trains, y_trains)\n",
    "y_pre1 = clf1.predict(x_tests)\n",
    "print('GaussianNB Testing accuracy %s' % accuracy_score(y_test, y_pre1))"
   ]
  },
  {
   "cell_type": "code",
   "execution_count": null,
   "metadata": {
    "pycharm": {
     "name": "#%%\n"
    }
   },
   "outputs": [],
   "source": [
    "clf1 = GaussianNB().fit(x_trains, y_trains)\n",
    "y_pre1 = clf1.predict(x_tests)\n",
    "print('GaussianNB Testing accuracy %s' % accuracy_score(y_tests, y_pre1))"
   ]
  },
  {
   "cell_type": "code",
   "execution_count": null,
   "metadata": {
    "pycharm": {
     "name": "#%%\n"
    }
   },
   "outputs": [],
   "source": [
    "lr = LogisticRegression(random_state=0).fit(x_trains, y_trains)\n",
    "y_pre_lr = lr.predict(x_tests)\n",
    "\n",
    "print('Testing accuracy %s' % accuracy_score(y_tests, y_pre_lr))"
   ]
  },
  {
   "cell_type": "code",
   "execution_count": null,
   "metadata": {
    "pycharm": {
     "name": "#%%\n"
    }
   },
   "outputs": [],
   "source": [
    "rfc = RandomForestClassifier(n_estimators=200, max_depth=4, random_state=0,n_jobs=4).fit(x_trains, y_trains)\n",
    "y_pre_rfc = rfc.predict(x_tests)\n",
    "\n",
    "print('Testing accuracy %s' % accuracy_score(y_tests, y_pre_rfc))\n"
   ]
  },
  {
   "cell_type": "code",
   "execution_count": null,
   "metadata": {
    "pycharm": {
     "name": "#%%\n"
    }
   },
   "outputs": [],
   "source": []
  }
 ],
 "metadata": {
  "kernelspec": {
   "display_name": "Python 3",
   "language": "python",
   "name": "python3"
  },
  "language_info": {
   "codemirror_mode": {
    "name": "ipython",
    "version": 3
   },
   "file_extension": ".py",
   "mimetype": "text/x-python",
   "name": "python",
   "nbconvert_exporter": "python",
   "pygments_lexer": "ipython3",
   "version": "3.7.4"
  },
  "pycharm": {
   "stem_cell": {
    "cell_type": "raw",
    "metadata": {
     "collapsed": false
    },
    "source": []
   }
  }
 },
 "nbformat": 4,
 "nbformat_minor": 1
}
