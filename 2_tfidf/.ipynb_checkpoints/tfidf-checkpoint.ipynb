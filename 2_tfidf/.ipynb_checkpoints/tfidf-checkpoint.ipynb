{
 "cells": [
  {
   "cell_type": "code",
   "execution_count": 2,
   "metadata": {
    "pycharm": {
     "is_executing": true
    }
   },
   "outputs": [
    {
     "name": "stdout",
     "output_type": "stream",
     "text": [
      "cpu number is : 4\n",
      "       tag                                                sen\n",
      "0        0  It really boggles my mind when someone comes a...\n",
      "1        0  Mary Pickford becomes the chieftain of a Scott...\n",
      "2        0  Well, at least my theater group did, lol. So o...\n",
      "3        1  I must give How She Move a near-perfect rating...\n",
      "4        0  I must say, when I read the storyline on the b...\n",
      "...    ...                                                ...\n",
      "19995    1  Simple, meaningful and delivers an emotional p...\n",
      "19996    1  I'm fan of ART, I like anything about Art, I l...\n",
      "19997    0  Despite being a sequel to the more potent orig...\n",
      "19998    0  Also known in a different form as \"House of Ex...\n",
      "19999    0  This has the absolute worst performance from R...\n",
      "\n",
      "[20000 rows x 2 columns]\n",
      "      tag                                                sen\n",
      "0       1  The first one meant victory. This one means de...\n",
      "1       1  Excellent movie, a realistic picture of contem...\n",
      "2       1  This film is moving without being sentimental ...\n",
      "3       0  This is high grade cheese fare of B movie kung...\n",
      "4       1  Halloween is the story of a boy who was misund...\n",
      "...   ...                                                ...\n",
      "4995    1  I really loved this film, yes, I know it was f...\n",
      "4996    1  Let's start this review out on a positive note...\n",
      "4997    0  I notice that most of the people who think thi...\n",
      "4998    1  I just saw this film last night at Toronto Fil...\n",
      "4999    1  This is very much not the sort of movie for wh...\n",
      "\n",
      "[5000 rows x 2 columns]\n"
     ]
    }
   ],
   "source": [
    "import multiprocessing\n",
    "import pandas as pd\n",
    "import nltk\n",
    "from nltk.corpus import stopwords\n",
    "from sklearn.metrics import accuracy_score\n",
    "from sklearn.feature_extraction.text import TfidfVectorizer\n",
    "from sklearn.model_selection import train_test_split\n",
    "from sklearn.feature_extraction.text import CountVectorizer\n",
    "from sklearn.feature_extraction.text import TfidfTransformer\n",
    "from sklearn.linear_model import LogisticRegression\n",
    "from sklearn.ensemble import RandomForestClassifier\n",
    "from sklearn.naive_bayes import MultinomialNB, GaussianNB\n",
    "from sklearn.svm import LinearSVC\n",
    "from sklearn.model_selection import cross_val_score\n",
    "from sklearn.neighbors import KNeighborsClassifier\n",
    "cores = multiprocessing.cpu_count()\n",
    "print(\"cpu number is :\", cores)\n",
    "\n",
    "\n",
    "# 第一步 数据预处理，\n",
    "def cut(document):\n",
    "    # 定义删除除字母,数字，汉字以外的所有符号的函数\n",
    "    doc = nltk.word_tokenize(document)\n",
    "    filtered = [w for w in doc if (w not in stopwords.words('english') and w not in '!@#$%^&*()_+<>?\":,./;{}[]')]\n",
    "    return filtered\n",
    "\n",
    "\n",
    "df_train = pd.read_csv('/Users/yuchk/PycharmProjects/IMDB/0_dataset/orign/train_imdb.tsv',\n",
    "                 usecols=['tag', 'sen'], sep='\\t')\n",
    "df_test = pd.read_csv('/Users/yuchk/PycharmProjects/IMDB/0_dataset/orign/test_imdb.tsv',\n",
    "                 usecols=['tag', 'sen'], sep='\\t')\n",
    "# df['cat_id'] = df['product_type'].factorize()[0]\n",
    "# cat_id_df = df[['product_type', 'cat_id']].drop_duplicates().sort_values('cat_id').reset_index(drop=True)\n",
    "# cat_to_id = dict(cat_id_df.values)\n",
    "# id_to_cat = dict(cat_id_df[['cat_id', 'product_type']].values)\n",
    "# d = {'cat': df['product_type'].value_counts().index, 'count': df['product_type'].value_counts()}\n",
    "# df_cat = pd.DataFrame(data=d)\n",
    "# # my_cont_df = df_cat[df_cat['count'] > 5000]['cat']\n",
    "# # df = df[df['product_type'].isin(list(my_cont_df))]\n",
    "# my_min_df = df_cat[df_cat['count'] > 3000]['cat']\n",
    "# my_max_df = df_cat[df_cat['count'] < 6000]['cat']\n",
    "# df = df[df['product_type'].isin(list(my_min_df))]\n",
    "# df = df[df['product_type'].isin(list(my_max_df))]\n",
    "# # 分词，并过滤停用词\n",
    "# # df['cut_title'] = df['title'].apply(cut)\n",
    "\n",
    "print(df_train)\n",
    "print(df_test)"
   ]
  },
  {
   "cell_type": "code",
   "execution_count": 5,
   "metadata": {
    "pycharm": {
     "is_executing": true
    }
   },
   "outputs": [],
   "source": [
    "X_train, X_test, y_train, y_test = train_test_split(df_train['sen'], df_train['tag'], random_state=42, test_size = 0.2,stratify=df['tag'])\n",
    "\n"
   ]
  },
  {
   "cell_type": "code",
   "execution_count": 6,
   "metadata": {
    "pycharm": {
     "is_executing": true
    }
   },
   "outputs": [],
   "source": [
    "tf = TfidfVectorizer()\n",
    "X_train_tfidf = tf.fit_transform(X_train)\n",
    "X_test_tfidf = tf.transform(X_test)\n"
   ]
  },
  {
   "cell_type": "code",
   "execution_count": 7,
   "metadata": {
    "pycharm": {
     "is_executing": true
    }
   },
   "outputs": [
    {
     "name": "stdout",
     "output_type": "stream",
     "text": [
      "Testing accuracy 0.751\n"
     ]
    }
   ],
   "source": [
    "\n",
    "kn = KNeighborsClassifier(n_jobs=2,n_neighbors=1).fit(X_train_tfidf, y_train)\n",
    "y_pre_kn = kn.predict(X_test_tfidf)\n",
    "\n",
    "print('Testing accuracy %s' % accuracy_score(y_test, y_pre_kn))"
   ]
  },
  {
   "cell_type": "code",
   "execution_count": 8,
   "metadata": {
    "pycharm": {
     "is_executing": true
    }
   },
   "outputs": [
    {
     "name": "stdout",
     "output_type": "stream",
     "text": [
      "Testing accuracy 0.7435\n"
     ]
    }
   ],
   "source": [
    "\n",
    "kn = KNeighborsClassifier(n_jobs=2,n_neighbors=2).fit(X_train_tfidf, y_train)\n",
    "y_pre_kn = kn.predict(X_test_tfidf)\n",
    "\n",
    "print('Testing accuracy %s' % accuracy_score(y_test, y_pre_kn))"
   ]
  },
  {
   "cell_type": "code",
   "execution_count": null,
   "metadata": {
    "pycharm": {
     "is_executing": true
    }
   },
   "outputs": [],
   "source": [
    "from sklearn.metrics import classification_report\n",
    "print(classification_report(y_test, y_pre_kn))"
   ]
  },
  {
   "cell_type": "code",
   "execution_count": 10,
   "metadata": {
    "pycharm": {
     "is_executing": true
    }
   },
   "outputs": [
    {
     "name": "stdout",
     "output_type": "stream",
     "text": [
      "Testing accuracy 0.80825\n"
     ]
    }
   ],
   "source": [
    "rfc = RandomForestClassifier(n_estimators=200, max_depth=4, random_state=0).fit(X_train_tfidf, y_train)\n",
    "y_pre_rfc = rfc.predict(X_test_tfidf)\n",
    "\n",
    "print('Testing accuracy %s' % accuracy_score(y_test, y_pre_rfc))"
   ]
  },
  {
   "cell_type": "code",
   "execution_count": 11,
   "metadata": {
    "pycharm": {
     "is_executing": true,
     "name": "#%%\n"
    }
   },
   "outputs": [
    {
     "name": "stdout",
     "output_type": "stream",
     "text": [
      "Testing accuracy 0.89825\n"
     ]
    }
   ],
   "source": [
    "ls = LinearSVC().fit(X_train_tfidf, y_train)\n",
    "y_pre_ls = ls.predict(X_test_tfidf)\n",
    "\n",
    "print('Testing accuracy %s' % accuracy_score(y_test, y_pre_ls))"
   ]
  },
  {
   "cell_type": "code",
   "execution_count": 12,
   "metadata": {
    "pycharm": {
     "is_executing": true
    }
   },
   "outputs": [
    {
     "name": "stderr",
     "output_type": "stream",
     "text": [
      "/Library/Frameworks/Python.framework/Versions/3.7/lib/python3.7/site-packages/sklearn/linear_model/logistic.py:432: FutureWarning: Default solver will be changed to 'lbfgs' in 0.22. Specify a solver to silence this warning.\n",
      "  FutureWarning)\n"
     ]
    },
    {
     "name": "stdout",
     "output_type": "stream",
     "text": [
      "Testing accuracy 0.88775\n"
     ]
    }
   ],
   "source": [
    "lr = LogisticRegression(random_state=0).fit(X_train_tfidf, y_train)\n",
    "y_pre_lr = lr.predict(X_test_tfidf)\n",
    "\n",
    "print('Testing accuracy %s' % accuracy_score(y_test, y_pre_lr))"
   ]
  },
  {
   "cell_type": "code",
   "execution_count": 13,
   "metadata": {
    "pycharm": {
     "is_executing": true
    }
   },
   "outputs": [
    {
     "name": "stdout",
     "output_type": "stream",
     "text": [
      "Testing accuracy 0.899\n"
     ]
    },
    {
     "name": "stderr",
     "output_type": "stream",
     "text": [
      "/Library/Frameworks/Python.framework/Versions/3.7/lib/python3.7/site-packages/sklearn/neural_network/multilayer_perceptron.py:568: UserWarning: Training interrupted by user.\n",
      "  warnings.warn(\"Training interrupted by user.\")\n"
     ]
    }
   ],
   "source": [
    "from  sklearn.neural_network import MLPClassifier\n",
    "mlp = MLPClassifier(hidden_layer_sizes=(192,)).fit(X_train_tfidf, y_train)\n",
    "y_pre_mlp = mlp.predict(X_test_tfidf)\n",
    "m1 = accuracy_score(y_test, y_pre_mlp)\n",
    "print('Testing accuracy %s' % m1)\n"
   ]
  },
  {
   "cell_type": "code",
   "execution_count": 14,
   "metadata": {
    "pycharm": {
     "is_executing": true
    }
   },
   "outputs": [
    {
     "name": "stdout",
     "output_type": "stream",
     "text": [
      "0.896\n"
     ]
    }
   ],
   "source": [
    "from sklearn.linear_model import SGDClassifier\n",
    "sgdc = SGDClassifier()\n",
    "sgdc.fit(X_train_tfidf, y_train)\n",
    "sgdc_predict_y = sgdc.predict(X_test_tfidf)\n",
    "sgdr = accuracy_score(y_test, sgdc_predict_y)\n",
    "print(sgdr)"
   ]
  },
  {
   "cell_type": "code",
   "execution_count": 17,
   "metadata": {
    "pycharm": {
     "is_executing": true
    }
   },
   "outputs": [],
   "source": [
    "df['cat_id'] = df['tag'].factorize()[0]\n",
    "cat_id_df = df[['tag', 'cat_id']].drop_duplicates().sort_values('cat_id').reset_index(drop=True)\n",
    "cat_to_id = dict(cat_id_df.values)\n",
    "id_to_cat = dict(cat_id_df[['cat_id', 'tag']].values)\n",
    "d = {'cat': df['tag'].value_counts().index, 'count': df['tag'].value_counts()}\n",
    "df_cat = pd.DataFrame(data=d)\n",
    "# my_cont_df = df_cat[df_cat['count'] > 5000]['cat']\n",
    "# df = df[df['product_type'].isin(list(my_cont_df))]\n",
    "\n",
    "# 分词，并过滤停用词\n",
    "# df['cut_title'] = df['title'].apply(cut)"
   ]
  },
  {
   "cell_type": "code",
   "execution_count": null,
   "metadata": {},
   "outputs": [],
   "source": []
  },
  {
   "cell_type": "code",
   "execution_count": null,
   "metadata": {},
   "outputs": [],
   "source": []
  }
 ],
 "metadata": {
  "kernelspec": {
   "display_name": "Python 3",
   "language": "python",
   "name": "python3"
  },
  "language_info": {
   "codemirror_mode": {
    "name": "ipython",
    "version": 3
   },
   "file_extension": ".py",
   "mimetype": "text/x-python",
   "name": "python",
   "nbconvert_exporter": "python",
   "pygments_lexer": "ipython3",
   "version": "3.7.4"
  },
  "pycharm": {
   "stem_cell": {
    "cell_type": "raw",
    "metadata": {
     "collapsed": false
    },
    "source": []
   }
  }
 },
 "nbformat": 4,
 "nbformat_minor": 1
}
